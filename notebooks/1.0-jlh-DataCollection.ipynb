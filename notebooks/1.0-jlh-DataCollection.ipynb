{
 "cells": [
  {
   "cell_type": "markdown",
   "metadata": {},
   "source": [
    "### Fantasy Football Player Performance Analysis\n",
    "#### Objective: Compare actual player scoring vs major fantasy football site predictions"
   ]
  },
  {
   "cell_type": "markdown",
   "metadata": {},
   "source": [
    "#  📚 1. Import Libraries\n"
   ]
  },
  {
   "cell_type": "code",
   "execution_count": 3,
   "metadata": {},
   "outputs": [],
   "source": [
    "import pandas as pd\n",
    "import numpy as np\n",
    "import requests\n",
    "from fuzzywuzzy import fuzz\n",
    "from fuzzywuzzy import process\n",
    "import matplotlib.pyplot as plt\n",
    "import seaborn as sns"
   ]
  },
  {
   "cell_type": "code",
   "execution_count": 5,
   "metadata": {},
   "outputs": [
    {
     "data": {
      "text/plain": [
       "True"
      ]
     },
     "execution_count": 5,
     "metadata": {},
     "output_type": "execute_result"
    }
   ],
   "source": [
    "from dotenv import load_dotenv\n",
    "import os\n",
    "\n",
    "# Load environment variables from .env file\n",
    "load_dotenv()"
   ]
  },
  {
   "cell_type": "markdown",
   "metadata": {},
   "source": [
    "# 🔄 2. Data Collection"
   ]
  },
  {
   "cell_type": "code",
   "execution_count": null,
   "metadata": {},
   "outputs": [],
   "source": [
    "# Example function for collecting data from APIs (replace with actual API calls)\n",
    "def get_fantasy_data(api_url):\n",
    "    response = requests.get(api_url)\n",
    "    if response.status_code == 200:\n",
    "        return response.json()\n",
    "    else:\n",
    "        print(f\"Error fetching data from {api_url}\")\n",
    "        return None\n",
    "\n",
    "# Replace with actual API URLs for ESPN, FantasyPros, CBS, Sleeper, Yahoo\n",
    "espn_data = get_fantasy_data(\"https://api.espn.com/fantasy-football-data\")\n",
    "fantasypros_data = get_fantasy_data(\"https://api.fantasypros.com/fantasy-football-data\")\n",
    "\n",
    "# Additional APIs for other platforms (CBS, Sleeper, Yahoo)\n",
    "\n",
    "# Convert API data to DataFrames (placeholder for now, replace with actual data structures)\n",
    "espn_df = pd.DataFrame(espn_data)\n",
    "fantasypros_df = pd.DataFrame(fantasypros_data)"
   ]
  },
  {
   "cell_type": "markdown",
   "metadata": {},
   "source": [
    "# ESPN Fantasy Football API"
   ]
  },
  {
   "cell_type": "code",
   "execution_count": 21,
   "metadata": {},
   "outputs": [
    {
     "name": "stdout",
     "output_type": "stream",
     "text": [
      "4242896\n"
     ]
    },
    {
     "ename": "AttributeError",
     "evalue": "'int' object has no attribute 'name'",
     "output_type": "error",
     "traceback": [
      "\u001b[0;31m---------------------------------------------------------------------------\u001b[0m",
      "\u001b[0;31mAttributeError\u001b[0m                            Traceback (most recent call last)",
      "Cell \u001b[0;32mIn[21], line 25\u001b[0m\n\u001b[1;32m     21\u001b[0m     actual_points \u001b[38;5;241m=\u001b[39m player\u001b[38;5;241m.\u001b[39mpoints \u001b[38;5;28;01mif\u001b[39;00m \u001b[38;5;28mhasattr\u001b[39m(player, \u001b[38;5;124m'\u001b[39m\u001b[38;5;124mpoints\u001b[39m\u001b[38;5;124m'\u001b[39m) \u001b[38;5;28;01melse\u001b[39;00m \u001b[38;5;241m0\u001b[39m  \u001b[38;5;66;03m# Actual points may vary based on availability\u001b[39;00m\n\u001b[1;32m     23\u001b[0m     \u001b[38;5;66;03m# Append player data to the list\u001b[39;00m\n\u001b[1;32m     24\u001b[0m     player_scores\u001b[38;5;241m.\u001b[39mappend({\n\u001b[0;32m---> 25\u001b[0m         \u001b[38;5;124m'\u001b[39m\u001b[38;5;124mPlayer Name\u001b[39m\u001b[38;5;124m'\u001b[39m: \u001b[43mplayer\u001b[49m\u001b[38;5;241;43m.\u001b[39;49m\u001b[43mname\u001b[49m,\n\u001b[1;32m     26\u001b[0m         \u001b[38;5;124m'\u001b[39m\u001b[38;5;124mTeam\u001b[39m\u001b[38;5;124m'\u001b[39m: player\u001b[38;5;241m.\u001b[39mteam,\n\u001b[1;32m     27\u001b[0m         \u001b[38;5;124m'\u001b[39m\u001b[38;5;124mPosition\u001b[39m\u001b[38;5;124m'\u001b[39m: player\u001b[38;5;241m.\u001b[39mposition,\n\u001b[1;32m     28\u001b[0m         \u001b[38;5;124m'\u001b[39m\u001b[38;5;124mProjected Points\u001b[39m\u001b[38;5;124m'\u001b[39m: projected_points,\n\u001b[1;32m     29\u001b[0m         \u001b[38;5;124m'\u001b[39m\u001b[38;5;124mActual Points\u001b[39m\u001b[38;5;124m'\u001b[39m: actual_points\n\u001b[1;32m     30\u001b[0m     })\n\u001b[1;32m     32\u001b[0m \u001b[38;5;66;03m# Convert to DataFrame for easier manipulation (optional)\u001b[39;00m\n\u001b[1;32m     33\u001b[0m \u001b[38;5;28;01mimport\u001b[39;00m \u001b[38;5;21;01mpandas\u001b[39;00m \u001b[38;5;28;01mas\u001b[39;00m \u001b[38;5;21;01mpd\u001b[39;00m\n",
      "\u001b[0;31mAttributeError\u001b[0m: 'int' object has no attribute 'name'"
     ]
    }
   ],
   "source": [
    "from espn_api.football import League\n",
    "\n",
    "swid = os.getenv(\"SWID\")\n",
    "espn_s2 = os.getenv(\"ESPN_S2\")\n",
    "league_id = os.getenv(\"LEAGUE_ID\")\n",
    "\n",
    "# Replace with your league ID and ESPN_S2 and SWID cookies\n",
    "league = League(league_id=league_id, year=2024, espn_s2=espn_s2, swid=swid)\n",
    "\n",
    "# Get the player pool\n",
    "player_pool = league.player_map\n",
    "\n",
    "# Create a list to hold player projections and actual scores\n",
    "player_scores = []\n",
    "\n",
    "# Fetch projected and actual scores for each player in the pool\n",
    "for player in player_pool:\n",
    "    print(player)\n",
    "    # Get player's projected points (if available)\n",
    "    projected_points = player.projected_points if hasattr(player, 'projected_points') else 0\n",
    "    actual_points = player.points if hasattr(player, 'points') else 0  # Actual points may vary based on availability\n",
    "\n",
    "    # Append player data to the list\n",
    "    player_scores.append({\n",
    "        'Player Name': player.name,\n",
    "        'Team': player.team,\n",
    "        'Position': player.position,\n",
    "        'Projected Points': projected_points,\n",
    "        'Actual Points': actual_points\n",
    "    })\n",
    "\n",
    "# Convert to DataFrame for easier manipulation (optional)\n",
    "import pandas as pd\n",
    "\n",
    "player_scores_df = pd.DataFrame(player_scores)\n",
    "\n",
    "# Display the scores\n",
    "print(player_scores_df)\n",
    "\n",
    "# Optionally, save to a CSV file\n",
    "player_scores_df.to_csv('player_scores.csv', index=False)\n"
   ]
  },
  {
   "cell_type": "code",
   "execution_count": null,
   "metadata": {},
   "outputs": [],
   "source": []
  }
 ],
 "metadata": {
  "kernelspec": {
   "display_name": ".venv",
   "language": "python",
   "name": "python3"
  },
  "language_info": {
   "codemirror_mode": {
    "name": "ipython",
    "version": 3
   },
   "file_extension": ".py",
   "mimetype": "text/x-python",
   "name": "python",
   "nbconvert_exporter": "python",
   "pygments_lexer": "ipython3",
   "version": "3.10.12"
  }
 },
 "nbformat": 4,
 "nbformat_minor": 2
}
